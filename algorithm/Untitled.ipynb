{
 "cells": [
  {
   "cell_type": "code",
   "execution_count": 33,
   "metadata": {},
   "outputs": [],
   "source": [
    "import pandas as pd\n",
    "import numpy as np\n",
    "import time\n",
    "import random\n",
    "import requests\n",
    "import datetime"
   ]
  },
  {
   "cell_type": "code",
   "execution_count": 34,
   "metadata": {},
   "outputs": [],
   "source": [
    "central_temperature = [random.randrange(35, 41) for i in range(100)]\n",
    "cardio_frequency = [random.randrange(60, 180) for i in range(100)]\n",
    "resp_frequency = [random.randrange(15, 30) for i in range(100)]\n",
    "total_leucocyto = [random.randrange(2000, 20000) for i in range(100)]\n",
    "left_deviation = [random.randrange(0, 1) for i in range(100)]\n",
    "sistolic_arterial_pressure = [random.randrange(60, 130) for i in range(100)]\n",
    "average_arterial_pressure = [random.randrange(40, 80) for i in range(100)]\n",
    "oliguria = [random.randrange(0.25, 0.75) for i in range(100)]\n",
    "creatinine = [random.randrange(0.5, 3) for i in range(100)]\n",
    "pao2_fio2_relation = [random.randrange(150, 400) for i in range(100)]\n",
    "spo2 = [random.randrange(0, 1) for i in range(100)]\n",
    "platelet = [random.randrange(50000, 200000) for i in range(100)]\n",
    "lactate = [random.randrange(0, 1) for i in range(100)]\n",
    "consciousness_status = [random.randrange(0, 1) for i in range(100)]\n",
    "bilirubin = [random.randrange(0, 1) for i in range(100)]\n",
    "user_id = [random.randrange(1, 5) for i in range(100)]\n",
    "created_at = [datetime.datetime.now() for i in range(100)]\n",
    "updated_at = [created_at for i in range(100)]"
   ]
  },
  {
   "cell_type": "code",
   "execution_count": 36,
   "metadata": {},
   "outputs": [
    {
     "ename": "TypeError",
     "evalue": "must be str, not list",
     "output_type": "error",
     "traceback": [
      "\u001b[0;31m---------------------------------------------------------------------------\u001b[0m",
      "\u001b[0;31mTypeError\u001b[0m                                 Traceback (most recent call last)",
      "\u001b[0;32m<ipython-input-36-fd9310057abc>\u001b[0m in \u001b[0;36m<module>\u001b[0;34m\u001b[0m\n\u001b[0;32m----> 1\u001b[0;31m \u001b[0mprint\u001b[0m\u001b[0;34m(\u001b[0m\u001b[0;34m'created_at: '\u001b[0m\u001b[0;34m+\u001b[0m\u001b[0mcreated_at\u001b[0m\u001b[0;34m,\u001b[0m \u001b[0;34m'updated_at: '\u001b[0m\u001b[0;34m+\u001b[0m\u001b[0mupdated_at\u001b[0m\u001b[0;34m)\u001b[0m\u001b[0;34m\u001b[0m\u001b[0;34m\u001b[0m\u001b[0m\n\u001b[0m",
      "\u001b[0;31mTypeError\u001b[0m: must be str, not list"
     ]
    }
   ],
   "source": []
  },
  {
   "cell_type": "code",
   "execution_count": 26,
   "metadata": {},
   "outputs": [
    {
     "data": {
      "text/plain": [
       "38"
      ]
     },
     "execution_count": 26,
     "metadata": {},
     "output_type": "execute_result"
    }
   ],
   "source": []
  }
 ],
 "metadata": {
  "kernelspec": {
   "display_name": "Python 3",
   "language": "python",
   "name": "python3"
  },
  "language_info": {
   "codemirror_mode": {
    "name": "ipython",
    "version": 3
   },
   "file_extension": ".py",
   "mimetype": "text/x-python",
   "name": "python",
   "nbconvert_exporter": "python",
   "pygments_lexer": "ipython3",
   "version": "3.6.8"
  }
 },
 "nbformat": 4,
 "nbformat_minor": 2
}
